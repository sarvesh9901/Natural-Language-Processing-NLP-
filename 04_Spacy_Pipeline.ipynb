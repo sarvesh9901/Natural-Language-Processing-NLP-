{
  "nbformat": 4,
  "nbformat_minor": 0,
  "metadata": {
    "colab": {
      "provenance": []
    },
    "kernelspec": {
      "name": "python3",
      "display_name": "Python 3"
    },
    "language_info": {
      "name": "python"
    }
  },
  "cells": [
    {
      "cell_type": "code",
      "execution_count": 1,
      "metadata": {
        "id": "hUr7IGUnGiTp"
      },
      "outputs": [],
      "source": [
        "import spacy"
      ]
    },
    {
      "cell_type": "code",
      "source": [
        "#chekcing for POS and Lemmatize words\n",
        "nlp = spacy.load('en_core_web_sm')\n",
        "doc = nlp(\"captain america ate 500$ vadapav . then he said i can do it all the day\")\n",
        "for token in doc:\n",
        "  print(f'token = {token} | POS = {token.pos_} | Lematizer = {token.lemma_}')"
      ],
      "metadata": {
        "colab": {
          "base_uri": "https://localhost:8080/"
        },
        "id": "343jOudzHNQy",
        "outputId": "80f9b066-39b3-4e79-a102-ee1f495c641f"
      },
      "execution_count": 11,
      "outputs": [
        {
          "output_type": "stream",
          "name": "stdout",
          "text": [
            "token = captain | POS = PROPN | Lematizer = captain\n",
            "token = america | POS = PROPN | Lematizer = america\n",
            "token = ate | POS = VERB | Lematizer = eat\n",
            "token = 500 | POS = NUM | Lematizer = 500\n",
            "token = $ | POS = NOUN | Lematizer = $\n",
            "token = vadapav | POS = NOUN | Lematizer = vadapav\n",
            "token = . | POS = PUNCT | Lematizer = .\n",
            "token = then | POS = ADV | Lematizer = then\n",
            "token = he | POS = PRON | Lematizer = he\n",
            "token = said | POS = VERB | Lematizer = say\n",
            "token = i | POS = PRON | Lematizer = I\n",
            "token = can | POS = AUX | Lematizer = can\n",
            "token = do | POS = VERB | Lematizer = do\n",
            "token = it | POS = PRON | Lematizer = it\n",
            "token = all | POS = DET | Lematizer = all\n",
            "token = the | POS = DET | Lematizer = the\n",
            "token = day | POS = NOUN | Lematizer = day\n"
          ]
        }
      ]
    },
    {
      "cell_type": "code",
      "source": [
        "#find what each entity means (Named Entity recognition)\n",
        "nlp = spacy.load('en_core_web_sm')\n",
        "doc  = nlp('Tesla Inc is going to acquire Twitter Pvt.Ltd for $45 Millions')\n",
        "for ent in doc.ents:\n",
        "  print(f'Entity = {ent} | Label = {ent.label_} | {spacy.explain(ent.label_)}')"
      ],
      "metadata": {
        "colab": {
          "base_uri": "https://localhost:8080/"
        },
        "id": "z62Vn01HHNTj",
        "outputId": "e917b2da-0bce-4d21-80ac-9e4cf0309c5b"
      },
      "execution_count": 20,
      "outputs": [
        {
          "output_type": "stream",
          "name": "stdout",
          "text": [
            "Entity = Tesla Inc | Label = ORG | Companies, agencies, institutions, etc.\n",
            "Entity = Twitter Pvt.Ltd | Label = ORG | Companies, agencies, institutions, etc.\n",
            "Entity = $45 Millions | Label = MONEY | Monetary values, including unit\n"
          ]
        }
      ]
    },
    {
      "cell_type": "code",
      "source": [
        "from spacy import displacy\n",
        "displacy.render(doc , style= 'ent')"
      ],
      "metadata": {
        "colab": {
          "base_uri": "https://localhost:8080/",
          "height": 52
        },
        "id": "_xJ4cmwyKjuo",
        "outputId": "66d5745f-5afd-4dff-fe35-3f196ab29305"
      },
      "execution_count": 21,
      "outputs": [
        {
          "output_type": "display_data",
          "data": {
            "text/plain": [
              "<IPython.core.display.HTML object>"
            ],
            "text/html": [
              "<span class=\"tex2jax_ignore\"><div class=\"entities\" style=\"line-height: 2.5; direction: ltr\">\n",
              "<mark class=\"entity\" style=\"background: #7aecec; padding: 0.45em 0.6em; margin: 0 0.25em; line-height: 1; border-radius: 0.35em;\">\n",
              "    Tesla Inc\n",
              "    <span style=\"font-size: 0.8em; font-weight: bold; line-height: 1; border-radius: 0.35em; vertical-align: middle; margin-left: 0.5rem\">ORG</span>\n",
              "</mark>\n",
              " is going to acquire \n",
              "<mark class=\"entity\" style=\"background: #7aecec; padding: 0.45em 0.6em; margin: 0 0.25em; line-height: 1; border-radius: 0.35em;\">\n",
              "    Twitter Pvt.Ltd\n",
              "    <span style=\"font-size: 0.8em; font-weight: bold; line-height: 1; border-radius: 0.35em; vertical-align: middle; margin-left: 0.5rem\">ORG</span>\n",
              "</mark>\n",
              " for \n",
              "<mark class=\"entity\" style=\"background: #e4e7d2; padding: 0.45em 0.6em; margin: 0 0.25em; line-height: 1; border-radius: 0.35em;\">\n",
              "    $45 Millions\n",
              "    <span style=\"font-size: 0.8em; font-weight: bold; line-height: 1; border-radius: 0.35em; vertical-align: middle; margin-left: 0.5rem\">MONEY</span>\n",
              "</mark>\n",
              "</div></span>"
            ]
          },
          "metadata": {}
        }
      ]
    }
  ]
}