{
  "nbformat": 4,
  "nbformat_minor": 0,
  "metadata": {
    "colab": {
      "provenance": []
    },
    "kernelspec": {
      "name": "python3",
      "display_name": "Python 3"
    },
    "language_info": {
      "name": "python"
    }
  },
  "cells": [
    {
      "cell_type": "code",
      "execution_count": 1,
      "metadata": {
        "id": "_gK-CAGyfUhS"
      },
      "outputs": [],
      "source": [
        "import spacy"
      ]
    },
    {
      "cell_type": "code",
      "source": [
        "nlp = spacy.load('en_core_web_sm')\n",
        "nlp = spacy.load(\"en_core_web_sm\")\n",
        "doc = nlp(\"Elon flew to mars yesterday. He carried biryani masala with him\")\n",
        "\n",
        "for token in doc:\n",
        "    print(token,\" | \", token.pos_, \" | \", spacy.explain(token.pos_))"
      ],
      "metadata": {
        "colab": {
          "base_uri": "https://localhost:8080/"
        },
        "id": "dtdRaB_4fajG",
        "outputId": "30c5a6d6-4f28-4b30-bb83-b6d9f533bff3"
      },
      "execution_count": 3,
      "outputs": [
        {
          "output_type": "stream",
          "name": "stdout",
          "text": [
            "Elon  |  PROPN  |  proper noun\n",
            "flew  |  VERB  |  verb\n",
            "to  |  ADP  |  adposition\n",
            "mars  |  NOUN  |  noun\n",
            "yesterday  |  NOUN  |  noun\n",
            ".  |  PUNCT  |  punctuation\n",
            "He  |  PRON  |  pronoun\n",
            "carried  |  VERB  |  verb\n",
            "biryani  |  ADJ  |  adjective\n",
            "masala  |  NOUN  |  noun\n",
            "with  |  ADP  |  adposition\n",
            "him  |  PRON  |  pronoun\n"
          ]
        }
      ]
    },
    {
      "cell_type": "code",
      "source": [
        "doc = nlp(\"I lives in pune\")\n",
        "print(doc[1].tag_, '|', spacy.explain(doc[1].tag_))"
      ],
      "metadata": {
        "colab": {
          "base_uri": "https://localhost:8080/"
        },
        "id": "u01RSUrThCDB",
        "outputId": "d85b4dfb-1607-4c66-e242-7e93dab93b6e"
      },
      "execution_count": 10,
      "outputs": [
        {
          "output_type": "stream",
          "name": "stdout",
          "text": [
            "VBZ | verb, 3rd person singular present\n"
          ]
        }
      ]
    },
    {
      "cell_type": "code",
      "source": [
        "text = \"\"\"Microsoft Corp. today announced the following results for the quarter ended December 31, 2021, as compared to the corresponding period of last fiscal year:\n",
        "\n",
        "·         Revenue was $51.7 billion and increased 20%\n",
        "·         Operating income was $22.2 billion and increased 24%\n",
        "·         Net income was $18.8 billion and increased 21%\n",
        "·         Diluted earnings per share was $2.48 and increased 22%\n",
        "“Digital technology is the most malleable resource at the world’s disposal to overcome constraints and reimagine everyday work and life,” said Satya Nadella, chairman and chief executive officer of Microsoft. “As tech as a percentage of global GDP continues to increase, we are innovating and investing across diverse and growing markets, with a common underlying technology stack and an operating model that reinforces a common strategy, culture, and sense of purpose.”\n",
        "“Solid commercial execution, represented by strong bookings growth driven by long-term Azure commitments, increased Microsoft Cloud revenue to $22.1 billion, up 32% year over year” said Amy Hood, executive vice president and chief financial officer of Microsoft.\"\"\"\n",
        "doc = nlp(text)\n",
        "filtered_tokens = []\n",
        "for token in doc:\n",
        "  if (token.pos_ not in [\"SPACE\",\"X\",\"PUNCT\"]):\n",
        "    filtered_tokens.append(token)\n",
        "filtered_tokens"
      ],
      "metadata": {
        "colab": {
          "base_uri": "https://localhost:8080/"
        },
        "id": "-_qEfb7IhkEN",
        "outputId": "ba7f736f-fd91-4fa6-d7c1-ad79d9981f64"
      },
      "execution_count": 21,
      "outputs": [
        {
          "output_type": "execute_result",
          "data": {
            "text/plain": [
              "[Microsoft,\n",
              " Corp.,\n",
              " today,\n",
              " announced,\n",
              " the,\n",
              " following,\n",
              " results,\n",
              " for,\n",
              " the,\n",
              " quarter,\n",
              " ended,\n",
              " December,\n",
              " 31,\n",
              " 2021,\n",
              " as,\n",
              " compared,\n",
              " to,\n",
              " the,\n",
              " corresponding,\n",
              " period,\n",
              " of,\n",
              " last,\n",
              " fiscal,\n",
              " year,\n",
              " Revenue,\n",
              " was,\n",
              " $,\n",
              " 51.7,\n",
              " billion,\n",
              " and,\n",
              " increased,\n",
              " 20,\n",
              " %,\n",
              " Operating,\n",
              " income,\n",
              " was,\n",
              " $,\n",
              " 22.2,\n",
              " billion,\n",
              " and,\n",
              " increased,\n",
              " 24,\n",
              " %,\n",
              " Net,\n",
              " income,\n",
              " was,\n",
              " $,\n",
              " 18.8,\n",
              " billion,\n",
              " and,\n",
              " increased,\n",
              " 21,\n",
              " %,\n",
              " Diluted,\n",
              " earnings,\n",
              " per,\n",
              " share,\n",
              " was,\n",
              " $,\n",
              " 2.48,\n",
              " and,\n",
              " increased,\n",
              " 22,\n",
              " %,\n",
              " Digital,\n",
              " technology,\n",
              " is,\n",
              " the,\n",
              " most,\n",
              " malleable,\n",
              " resource,\n",
              " at,\n",
              " the,\n",
              " world,\n",
              " ’s,\n",
              " disposal,\n",
              " to,\n",
              " overcome,\n",
              " constraints,\n",
              " and,\n",
              " reimagine,\n",
              " everyday,\n",
              " work,\n",
              " and,\n",
              " life,\n",
              " said,\n",
              " Satya,\n",
              " Nadella,\n",
              " chairman,\n",
              " and,\n",
              " chief,\n",
              " executive,\n",
              " officer,\n",
              " of,\n",
              " Microsoft,\n",
              " As,\n",
              " tech,\n",
              " as,\n",
              " a,\n",
              " percentage,\n",
              " of,\n",
              " global,\n",
              " GDP,\n",
              " continues,\n",
              " to,\n",
              " increase,\n",
              " we,\n",
              " are,\n",
              " innovating,\n",
              " and,\n",
              " investing,\n",
              " across,\n",
              " diverse,\n",
              " and,\n",
              " growing,\n",
              " markets,\n",
              " with,\n",
              " a,\n",
              " common,\n",
              " underlying,\n",
              " technology,\n",
              " stack,\n",
              " and,\n",
              " an,\n",
              " operating,\n",
              " model,\n",
              " that,\n",
              " reinforces,\n",
              " a,\n",
              " common,\n",
              " strategy,\n",
              " culture,\n",
              " and,\n",
              " sense,\n",
              " of,\n",
              " purpose,\n",
              " Solid,\n",
              " commercial,\n",
              " execution,\n",
              " represented,\n",
              " by,\n",
              " strong,\n",
              " bookings,\n",
              " growth,\n",
              " driven,\n",
              " by,\n",
              " long,\n",
              " term,\n",
              " Azure,\n",
              " commitments,\n",
              " increased,\n",
              " Microsoft,\n",
              " Cloud,\n",
              " revenue,\n",
              " to,\n",
              " $,\n",
              " 22.1,\n",
              " billion,\n",
              " up,\n",
              " 32,\n",
              " %,\n",
              " year,\n",
              " over,\n",
              " year,\n",
              " said,\n",
              " Amy,\n",
              " Hood,\n",
              " executive,\n",
              " vice,\n",
              " president,\n",
              " and,\n",
              " chief,\n",
              " financial,\n",
              " officer,\n",
              " of,\n",
              " Microsoft]"
            ]
          },
          "metadata": {},
          "execution_count": 21
        }
      ]
    },
    {
      "cell_type": "code",
      "source": [
        "count = doc.count_by(spacy.attrs.POS)"
      ],
      "metadata": {
        "id": "ptbdx5CHjf_k"
      },
      "execution_count": 30,
      "outputs": []
    },
    {
      "cell_type": "code",
      "source": [
        "spacy.explain(doc.vocab[96].text)"
      ],
      "metadata": {
        "colab": {
          "base_uri": "https://localhost:8080/",
          "height": 35
        },
        "id": "OBwcsNq7jqvT",
        "outputId": "dd27db24-7851-4e51-c892-4275ee9da761"
      },
      "execution_count": 28,
      "outputs": [
        {
          "output_type": "execute_result",
          "data": {
            "text/plain": [
              "'proper noun'"
            ],
            "application/vnd.google.colaboratory.intrinsic+json": {
              "type": "string"
            }
          },
          "metadata": {},
          "execution_count": 28
        }
      ]
    },
    {
      "cell_type": "code",
      "source": [
        "#Overall Text Analysis\n",
        "for k,j in count.items():\n",
        "  print(spacy.explain(doc.vocab[k].text) , j)"
      ],
      "metadata": {
        "colab": {
          "base_uri": "https://localhost:8080/"
        },
        "id": "Cur3WmW0jxP0",
        "outputId": "2f939d70-a68e-464c-b8df-2ff8604d4c98"
      },
      "execution_count": 32,
      "outputs": [
        {
          "output_type": "stream",
          "name": "stdout",
          "text": [
            "proper noun 13\n",
            "noun 46\n",
            "verb 24\n",
            "determiner 9\n",
            "adposition 16\n",
            "numeral 16\n",
            "punctuation 27\n",
            "subordinating conjunction 1\n",
            "adjective 20\n",
            "space 10\n",
            "auxiliary 6\n",
            "symbol 5\n",
            "coordinating conjunction 12\n",
            "adverb 3\n",
            "particle 3\n",
            "pronoun 2\n"
          ]
        }
      ]
    },
    {
      "cell_type": "markdown",
      "source": [
        "# **Exercise for Spacy POS tutorial,**\n",
        "\n",
        "You are parsing a news story from cnbc.com. News story is stores in news_story.txt which is available in this same folder on github.\n",
        " You need to,\n",
        "Extract all NOUN tokens from this story.\n",
        "You will have to read the file in python first to collect all the text and then extract NOUNs in a python list\n",
        "Extract all numbers (NUM POS type) in a python list\n",
        "Print a count of all POS tags in this story"
      ],
      "metadata": {
        "id": "JWCN9_phl4cf"
      }
    },
    {
      "cell_type": "code",
      "source": [
        "nlp = spacy.load('en_core_web_sm')\n",
        "with open('news_story.txt') as f:\n",
        "  text = f.readlines()\n",
        "text =  \" \".join(text)\n",
        "text"
      ],
      "metadata": {
        "colab": {
          "base_uri": "https://localhost:8080/",
          "height": 139
        },
        "id": "y7eWudTul3l9",
        "outputId": "c5315d65-b7f4-415b-fefc-2d4588ccb85c"
      },
      "execution_count": 37,
      "outputs": [
        {
          "output_type": "execute_result",
          "data": {
            "text/plain": [
              "'Inflation rose again in April, continuing a climb that has pushed consumers to the brink and is threatening the economic expansion, the Bureau of Labor Statistics reported Wednesday.\\n \\n The consumer price index, a broad-based measure of prices for goods and services, increased 8.3% from a year ago, higher than the Dow Jones estimate for an 8.1% gain. That represented a slight ease from March’s peak but was still close to the highest level since the summer of 1982.\\n \\n Removing volatile food and energy prices, so-called core CPI still rose 6.2%, against expectations for a 6% gain, clouding hopes that inflation had peaked in March.\\n \\n The month-over-month gains also were higher than expectations — 0.3% on headline CPI versus the 0.2% estimate and a 0.6% increase for core, against the outlook for a 0.4% gain.\\n \\n The price gains also meant that workers continued to lose ground. Real wages adjusted for inflation decreased 0.1% on the month despite a nominal increase of 0.3% in average hourly earnings. Over the past year, real earnings have dropped 2.6% even though average hourly earnings are up 5.5%.\\n \\n Inflation has been the single biggest threat to a recovery that began early in the Covid pandemic and saw the economy in 2021 stage its biggest single-year growth level since 1984. Rising prices at the pump and in grocery stores have been one problem, but inflation has spread beyond those two areas into housing, auto sales and a host of other areas.\\n \\n Federal Reserve officials have responded to the problem with two interest rate hikes so far this year and pledges of more until inflation comes down to the central bank’s 2% goal. However, Wednesday’s data shows that the Fed has a big job ahead.\\n \\n Credits: cnbc.com'"
            ],
            "application/vnd.google.colaboratory.intrinsic+json": {
              "type": "string"
            }
          },
          "metadata": {},
          "execution_count": 37
        }
      ]
    },
    {
      "cell_type": "code",
      "source": [
        "doc = nlp(text)\n",
        "nouns = []\n",
        "nums = []\n",
        "for token in doc:\n",
        "  if(token.pos_ == \"NOUN\"):\n",
        "    nouns.append(token)\n",
        "  elif(token.pos_ ==\"NUM\"):\n",
        "    nums.append(token)\n"
      ],
      "metadata": {
        "colab": {
          "base_uri": "https://localhost:8080/"
        },
        "id": "h4d-RcjLmeDR",
        "outputId": "923ee5c3-3947-4d08-eee7-ed73b3ec524a"
      },
      "execution_count": 49,
      "outputs": [
        {
          "output_type": "execute_result",
          "data": {
            "text/plain": [
              "[8.3,\n",
              " 8.1,\n",
              " 1982,\n",
              " 6.2,\n",
              " 6,\n",
              " 0.3,\n",
              " 0.2,\n",
              " 0.6,\n",
              " 0.4,\n",
              " 0.1,\n",
              " 0.3,\n",
              " 2.6,\n",
              " 5.5,\n",
              " 2021,\n",
              " 1984,\n",
              " one,\n",
              " two,\n",
              " two,\n",
              " 2]"
            ]
          },
          "metadata": {},
          "execution_count": 49
        }
      ]
    },
    {
      "cell_type": "code",
      "source": [
        "count = doc.count_by(spacy.attrs.POS)"
      ],
      "metadata": {
        "id": "sxdzT7ofnvDn"
      },
      "execution_count": 53,
      "outputs": []
    },
    {
      "cell_type": "code",
      "source": [
        "for k,v in count.items():\n",
        "  print(doc.vocab[k].text , v)"
      ],
      "metadata": {
        "colab": {
          "base_uri": "https://localhost:8080/"
        },
        "id": "gR-L1GIwm4Sp",
        "outputId": "028aa20f-0191-4002-9b81-deedde67ee6a"
      },
      "execution_count": 54,
      "outputs": [
        {
          "output_type": "stream",
          "name": "stdout",
          "text": [
            "NOUN 96\n",
            "VERB 27\n",
            "ADV 15\n",
            "ADP 39\n",
            "PROPN 16\n",
            "PUNCT 32\n",
            "DET 34\n",
            "PRON 4\n",
            "AUX 13\n",
            "CCONJ 10\n",
            "ADJ 23\n",
            "SPACE 7\n",
            "NUM 19\n",
            "PART 4\n",
            "SCONJ 8\n",
            "X 1\n"
          ]
        }
      ]
    }
  ]
}